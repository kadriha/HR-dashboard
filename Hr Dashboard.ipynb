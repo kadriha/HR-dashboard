{
 "cells": [
  {
   "cell_type": "markdown",
   "id": "7839a3e1",
   "metadata": {},
   "source": [
    "***HR Dashboard Created During My PwC Internship\n",
    "\n",
    "During my PwC internship, I developed an HR dashboard in Power BI that provided critical insights into workforce metrics. Here is a concise overview:\n",
    "Key Features:\n",
    "\n",
    "1.Gender Distribution\n",
    "    chart showing the number of male and female employees to highlight gender diversity.\n",
    "\n",
    "2. **Hiring Metrics\n",
    "   - Bar charts displaying the years of hired by gender.\n",
    "   \n",
    "3. **Promotion Metrics**:\n",
    "   - Bar charts for the percentage of employees promoted in FY21, broken down by gender.\n",
    "   -\n",
    "4. **Turnover Rate**:\n",
    "   - KPI card showing the overall turnover percentage.\n",
    "   -\n",
    "5. **Performance Ratings**:\n",
    "   - KPI cards displaying average performance ratings for men and women.\n",
    "   - Bar charts showing performance ratings distribution across departments.\n",
    "\n",
    "#### Visualization Tools:\n",
    "\n",
    "1. **Bar Charts**:\n",
    "   - Gender distribution, hires, promotions, and turnover rates.\n",
    "\n",
    "2. **Pie Charts**:\n",
    "   - Hires and promotions by gender.\n",
    "   - Active employees vs. leavers.\n",
    "\n",
    "3. **Line Charts**:\n",
    "   - Hiring and promotion trends over time.\n",
    "\n",
    "4. **KPI Cards**:\n",
    "   - Key metrics such as turnover rate, percentage promoted, and average performance ratings.\n",
    "\n",
    "This dashboard enabled the HR department to make data-driven decisions and enhance organizational efficiency."
   ]
  },
  {
   "cell_type": "code",
   "execution_count": null,
   "id": "37c250ae",
   "metadata": {},
   "outputs": [],
   "source": []
  }
 ],
 "metadata": {
  "kernelspec": {
   "display_name": "Python 3 (ipykernel)",
   "language": "python",
   "name": "python3"
  },
  "language_info": {
   "codemirror_mode": {
    "name": "ipython",
    "version": 3
   },
   "file_extension": ".py",
   "mimetype": "text/x-python",
   "name": "python",
   "nbconvert_exporter": "python",
   "pygments_lexer": "ipython3",
   "version": "3.11.5"
  }
 },
 "nbformat": 4,
 "nbformat_minor": 5
}
